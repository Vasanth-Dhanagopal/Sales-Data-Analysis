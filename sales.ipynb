{
 "cells": [
  {
   "cell_type": "markdown",
   "metadata": {},
   "source": [
    "<h1>&nbsp;&nbsp;&nbsp;&nbsp;&nbsp;&nbsp;&nbsp;&nbsp;&nbsp;&nbsp;&nbsp;&nbsp;&nbsp;&nbsp;&nbsp;&nbsp;&nbsp;&nbsp;&nbsp;&nbsp;&nbsp;&nbsp;&nbsp;&nbsp;&nbsp;&nbsp;&nbsp;&nbsp;&nbsp;&nbsp;&nbsp;&nbsp;&nbsp;&nbsp;&nbsp;&nbsp;&nbsp;&nbsp;&nbsp;&nbsp;&nbsp;&nbsp;&nbsp;&nbsp;&nbsp;&nbsp;Welcome</h1>"
   ]
  },
  {
   "cell_type": "markdown",
   "metadata": {},
   "source": [
    "<h3> Objective <h3>"
   ]
  },
  {
   "cell_type": "markdown",
   "metadata": {},
   "source": [
    "Upon initial inspection of the data, we can start thinking of some questions about it that we would want to answer.\n",
    "\n",
    "- What is the total sales trend?\n",
    "\n",
    "- Which are the Top 10 products by sales?\n",
    "\n",
    "- Which are the best Selling Products?"
   ]
  },
  {
   "cell_type": "code",
   "execution_count": 19,
   "metadata": {},
   "outputs": [],
   "source": [
    "import pandas as pd\n",
    "import matplotlib.pyplot as plt\n",
    "%matplotlib inline\n",
    "import seaborn as sns"
   ]
  },
  {
   "cell_type": "markdown",
   "metadata": {},
   "source": [
    "**Import Dataset**"
   ]
  },
  {
   "cell_type": "code",
   "execution_count": 20,
   "metadata": {},
   "outputs": [
    {
     "data": {
      "text/html": [
       "<div>\n",
       "<style scoped>\n",
       "    .dataframe tbody tr th:only-of-type {\n",
       "        vertical-align: middle;\n",
       "    }\n",
       "\n",
       "    .dataframe tbody tr th {\n",
       "        vertical-align: top;\n",
       "    }\n",
       "\n",
       "    .dataframe thead th {\n",
       "        text-align: right;\n",
       "    }\n",
       "</style>\n",
       "<table border=\"1\" class=\"dataframe\">\n",
       "  <thead>\n",
       "    <tr style=\"text-align: right;\">\n",
       "      <th></th>\n",
       "      <th>Row ID</th>\n",
       "      <th>Order ID</th>\n",
       "      <th>Order Date</th>\n",
       "      <th>Ship Date</th>\n",
       "      <th>Ship Mode</th>\n",
       "      <th>Customer ID</th>\n",
       "      <th>Customer Name</th>\n",
       "      <th>Segment</th>\n",
       "      <th>City</th>\n",
       "      <th>State</th>\n",
       "      <th>...</th>\n",
       "      <th>Product ID</th>\n",
       "      <th>Category</th>\n",
       "      <th>Sub-Category</th>\n",
       "      <th>Product Name</th>\n",
       "      <th>Sales</th>\n",
       "      <th>Quantity</th>\n",
       "      <th>Discount</th>\n",
       "      <th>Profit</th>\n",
       "      <th>Shipping Cost</th>\n",
       "      <th>Order Priority</th>\n",
       "    </tr>\n",
       "  </thead>\n",
       "  <tbody>\n",
       "    <tr>\n",
       "      <th>0</th>\n",
       "      <td>32298</td>\n",
       "      <td>CA-2012-124891</td>\n",
       "      <td>2012-07-31</td>\n",
       "      <td>2012-07-31</td>\n",
       "      <td>Same Day</td>\n",
       "      <td>RH-19495</td>\n",
       "      <td>Rick Hansen</td>\n",
       "      <td>Consumer</td>\n",
       "      <td>New York City</td>\n",
       "      <td>New York</td>\n",
       "      <td>...</td>\n",
       "      <td>TEC-AC-10003033</td>\n",
       "      <td>Technology</td>\n",
       "      <td>Accessories</td>\n",
       "      <td>Plantronics CS510 - Over-the-Head monaural Wir...</td>\n",
       "      <td>2309.650</td>\n",
       "      <td>7</td>\n",
       "      <td>0.0</td>\n",
       "      <td>762.1845</td>\n",
       "      <td>933.57</td>\n",
       "      <td>Critical</td>\n",
       "    </tr>\n",
       "    <tr>\n",
       "      <th>1</th>\n",
       "      <td>26341</td>\n",
       "      <td>IN-2013-77878</td>\n",
       "      <td>2013-02-05</td>\n",
       "      <td>2013-02-07</td>\n",
       "      <td>Second Class</td>\n",
       "      <td>JR-16210</td>\n",
       "      <td>Justin Ritter</td>\n",
       "      <td>Corporate</td>\n",
       "      <td>Wollongong</td>\n",
       "      <td>New South Wales</td>\n",
       "      <td>...</td>\n",
       "      <td>FUR-CH-10003950</td>\n",
       "      <td>Furniture</td>\n",
       "      <td>Chairs</td>\n",
       "      <td>Novimex Executive Leather Armchair, Black</td>\n",
       "      <td>3709.395</td>\n",
       "      <td>9</td>\n",
       "      <td>0.1</td>\n",
       "      <td>-288.7650</td>\n",
       "      <td>923.63</td>\n",
       "      <td>Critical</td>\n",
       "    </tr>\n",
       "    <tr>\n",
       "      <th>2</th>\n",
       "      <td>25330</td>\n",
       "      <td>IN-2013-71249</td>\n",
       "      <td>2013-10-17</td>\n",
       "      <td>2013-10-18</td>\n",
       "      <td>First Class</td>\n",
       "      <td>CR-12730</td>\n",
       "      <td>Craig Reiter</td>\n",
       "      <td>Consumer</td>\n",
       "      <td>Brisbane</td>\n",
       "      <td>Queensland</td>\n",
       "      <td>...</td>\n",
       "      <td>TEC-PH-10004664</td>\n",
       "      <td>Technology</td>\n",
       "      <td>Phones</td>\n",
       "      <td>Nokia Smart Phone, with Caller ID</td>\n",
       "      <td>5175.171</td>\n",
       "      <td>9</td>\n",
       "      <td>0.1</td>\n",
       "      <td>919.9710</td>\n",
       "      <td>915.49</td>\n",
       "      <td>Medium</td>\n",
       "    </tr>\n",
       "    <tr>\n",
       "      <th>3</th>\n",
       "      <td>13524</td>\n",
       "      <td>ES-2013-1579342</td>\n",
       "      <td>2013-01-28</td>\n",
       "      <td>2013-01-30</td>\n",
       "      <td>First Class</td>\n",
       "      <td>KM-16375</td>\n",
       "      <td>Katherine Murray</td>\n",
       "      <td>Home Office</td>\n",
       "      <td>Berlin</td>\n",
       "      <td>Berlin</td>\n",
       "      <td>...</td>\n",
       "      <td>TEC-PH-10004583</td>\n",
       "      <td>Technology</td>\n",
       "      <td>Phones</td>\n",
       "      <td>Motorola Smart Phone, Cordless</td>\n",
       "      <td>2892.510</td>\n",
       "      <td>5</td>\n",
       "      <td>0.1</td>\n",
       "      <td>-96.5400</td>\n",
       "      <td>910.16</td>\n",
       "      <td>Medium</td>\n",
       "    </tr>\n",
       "    <tr>\n",
       "      <th>4</th>\n",
       "      <td>47221</td>\n",
       "      <td>SG-2013-4320</td>\n",
       "      <td>2013-11-05</td>\n",
       "      <td>2013-11-06</td>\n",
       "      <td>Same Day</td>\n",
       "      <td>RH-9495</td>\n",
       "      <td>Rick Hansen</td>\n",
       "      <td>Consumer</td>\n",
       "      <td>Dakar</td>\n",
       "      <td>Dakar</td>\n",
       "      <td>...</td>\n",
       "      <td>TEC-SHA-10000501</td>\n",
       "      <td>Technology</td>\n",
       "      <td>Copiers</td>\n",
       "      <td>Sharp Wireless Fax, High-Speed</td>\n",
       "      <td>2832.960</td>\n",
       "      <td>8</td>\n",
       "      <td>0.0</td>\n",
       "      <td>311.5200</td>\n",
       "      <td>903.04</td>\n",
       "      <td>Critical</td>\n",
       "    </tr>\n",
       "  </tbody>\n",
       "</table>\n",
       "<p>5 rows × 24 columns</p>\n",
       "</div>"
      ],
      "text/plain": [
       "   Row ID         Order ID Order Date  Ship Date     Ship Mode Customer ID  \\\n",
       "0   32298   CA-2012-124891 2012-07-31 2012-07-31      Same Day    RH-19495   \n",
       "1   26341    IN-2013-77878 2013-02-05 2013-02-07  Second Class    JR-16210   \n",
       "2   25330    IN-2013-71249 2013-10-17 2013-10-18   First Class    CR-12730   \n",
       "3   13524  ES-2013-1579342 2013-01-28 2013-01-30   First Class    KM-16375   \n",
       "4   47221     SG-2013-4320 2013-11-05 2013-11-06      Same Day     RH-9495   \n",
       "\n",
       "      Customer Name      Segment           City            State  ...  \\\n",
       "0       Rick Hansen     Consumer  New York City         New York  ...   \n",
       "1     Justin Ritter    Corporate     Wollongong  New South Wales  ...   \n",
       "2      Craig Reiter     Consumer       Brisbane       Queensland  ...   \n",
       "3  Katherine Murray  Home Office         Berlin           Berlin  ...   \n",
       "4       Rick Hansen     Consumer          Dakar            Dakar  ...   \n",
       "\n",
       "         Product ID    Category Sub-Category  \\\n",
       "0   TEC-AC-10003033  Technology  Accessories   \n",
       "1   FUR-CH-10003950   Furniture       Chairs   \n",
       "2   TEC-PH-10004664  Technology       Phones   \n",
       "3   TEC-PH-10004583  Technology       Phones   \n",
       "4  TEC-SHA-10000501  Technology      Copiers   \n",
       "\n",
       "                                        Product Name     Sales Quantity  \\\n",
       "0  Plantronics CS510 - Over-the-Head monaural Wir...  2309.650        7   \n",
       "1          Novimex Executive Leather Armchair, Black  3709.395        9   \n",
       "2                  Nokia Smart Phone, with Caller ID  5175.171        9   \n",
       "3                     Motorola Smart Phone, Cordless  2892.510        5   \n",
       "4                     Sharp Wireless Fax, High-Speed  2832.960        8   \n",
       "\n",
       "  Discount    Profit  Shipping Cost  Order Priority  \n",
       "0      0.0  762.1845         933.57        Critical  \n",
       "1      0.1 -288.7650         923.63        Critical  \n",
       "2      0.1  919.9710         915.49          Medium  \n",
       "3      0.1  -96.5400         910.16          Medium  \n",
       "4      0.0  311.5200         903.04        Critical  \n",
       "\n",
       "[5 rows x 24 columns]"
      ]
     },
     "execution_count": 20,
     "metadata": {},
     "output_type": "execute_result"
    }
   ],
   "source": [
    "df=pd.read_excel('sales_data.xlsx')\n",
    "df.head()"
   ]
  },
  {
   "cell_type": "markdown",
   "metadata": {},
   "source": [
    "**Data Audit**"
   ]
  },
  {
   "cell_type": "code",
   "execution_count": 21,
   "metadata": {},
   "outputs": [
    {
     "data": {
      "text/plain": [
       "(51290, 24)"
      ]
     },
     "execution_count": 21,
     "metadata": {},
     "output_type": "execute_result"
    }
   ],
   "source": [
    "df.shape"
   ]
  },
  {
   "cell_type": "code",
   "execution_count": 22,
   "metadata": {},
   "outputs": [
    {
     "data": {
      "text/plain": [
       "Index(['Row ID', 'Order ID', 'Order Date', 'Ship Date', 'Ship Mode',\n",
       "       'Customer ID', 'Customer Name', 'Segment', 'City', 'State', 'Country',\n",
       "       'Postal Code', 'Market', 'Region', 'Product ID', 'Category',\n",
       "       'Sub-Category', 'Product Name', 'Sales', 'Quantity', 'Discount',\n",
       "       'Profit', 'Shipping Cost', 'Order Priority'],\n",
       "      dtype='object')"
      ]
     },
     "execution_count": 22,
     "metadata": {},
     "output_type": "execute_result"
    }
   ],
   "source": [
    "df.columns"
   ]
  },
  {
   "cell_type": "code",
   "execution_count": 23,
   "metadata": {},
   "outputs": [
    {
     "name": "stdout",
     "output_type": "stream",
     "text": [
      "<class 'pandas.core.frame.DataFrame'>\n",
      "RangeIndex: 51290 entries, 0 to 51289\n",
      "Data columns (total 24 columns):\n",
      " #   Column          Non-Null Count  Dtype         \n",
      "---  ------          --------------  -----         \n",
      " 0   Row ID          51290 non-null  int64         \n",
      " 1   Order ID        51290 non-null  object        \n",
      " 2   Order Date      51290 non-null  datetime64[ns]\n",
      " 3   Ship Date       51290 non-null  datetime64[ns]\n",
      " 4   Ship Mode       51290 non-null  object        \n",
      " 5   Customer ID     51290 non-null  object        \n",
      " 6   Customer Name   51290 non-null  object        \n",
      " 7   Segment         51290 non-null  object        \n",
      " 8   City            51290 non-null  object        \n",
      " 9   State           51290 non-null  object        \n",
      " 10  Country         51290 non-null  object        \n",
      " 11  Postal Code     9994 non-null   float64       \n",
      " 12  Market          51290 non-null  object        \n",
      " 13  Region          51290 non-null  object        \n",
      " 14  Product ID      51290 non-null  object        \n",
      " 15  Category        51290 non-null  object        \n",
      " 16  Sub-Category    51290 non-null  object        \n",
      " 17  Product Name    51290 non-null  object        \n",
      " 18  Sales           51290 non-null  float64       \n",
      " 19  Quantity        51290 non-null  int64         \n",
      " 20  Discount        51290 non-null  float64       \n",
      " 21  Profit          51290 non-null  float64       \n",
      " 22  Shipping Cost   51290 non-null  float64       \n",
      " 23  Order Priority  51290 non-null  object        \n",
      "dtypes: datetime64[ns](2), float64(5), int64(2), object(15)\n",
      "memory usage: 9.4+ MB\n"
     ]
    }
   ],
   "source": [
    "df.info()"
   ]
  },
  {
   "cell_type": "code",
   "execution_count": 24,
   "metadata": {},
   "outputs": [
    {
     "data": {
      "text/plain": [
       "Row ID                0\n",
       "Order ID              0\n",
       "Order Date            0\n",
       "Ship Date             0\n",
       "Ship Mode             0\n",
       "Customer ID           0\n",
       "Customer Name         0\n",
       "Segment               0\n",
       "City                  0\n",
       "State                 0\n",
       "Country               0\n",
       "Postal Code       41296\n",
       "Market                0\n",
       "Region                0\n",
       "Product ID            0\n",
       "Category              0\n",
       "Sub-Category          0\n",
       "Product Name          0\n",
       "Sales                 0\n",
       "Quantity              0\n",
       "Discount              0\n",
       "Profit                0\n",
       "Shipping Cost         0\n",
       "Order Priority        0\n",
       "dtype: int64"
      ]
     },
     "execution_count": 24,
     "metadata": {},
     "output_type": "execute_result"
    }
   ],
   "source": [
    "df.isnull().sum()"
   ]
  },
  {
   "cell_type": "code",
   "execution_count": 25,
   "metadata": {},
   "outputs": [
    {
     "data": {
      "text/plain": [
       "Row ID            0\n",
       "Order ID          0\n",
       "Order Date        0\n",
       "Ship Date         0\n",
       "Ship Mode         0\n",
       "Customer ID       0\n",
       "Customer Name     0\n",
       "Segment           0\n",
       "City              0\n",
       "State             0\n",
       "Country           0\n",
       "Postal Code       0\n",
       "Market            0\n",
       "Region            0\n",
       "Product ID        0\n",
       "Category          0\n",
       "Sub-Category      0\n",
       "Product Name      0\n",
       "Sales             0\n",
       "Quantity          0\n",
       "Discount          0\n",
       "Profit            0\n",
       "Shipping Cost     0\n",
       "Order Priority    0\n",
       "dtype: int64"
      ]
     },
     "execution_count": 25,
     "metadata": {},
     "output_type": "execute_result"
    }
   ],
   "source": [
    "df = df.dropna(subset=['Postal Code'])\n",
    "df.isnull().sum()"
   ]
  },
  {
   "cell_type": "code",
   "execution_count": 26,
   "metadata": {},
   "outputs": [
    {
     "data": {
      "text/html": [
       "<div>\n",
       "<style scoped>\n",
       "    .dataframe tbody tr th:only-of-type {\n",
       "        vertical-align: middle;\n",
       "    }\n",
       "\n",
       "    .dataframe tbody tr th {\n",
       "        vertical-align: top;\n",
       "    }\n",
       "\n",
       "    .dataframe thead th {\n",
       "        text-align: right;\n",
       "    }\n",
       "</style>\n",
       "<table border=\"1\" class=\"dataframe\">\n",
       "  <thead>\n",
       "    <tr style=\"text-align: right;\">\n",
       "      <th></th>\n",
       "      <th>Row ID</th>\n",
       "      <th>Postal Code</th>\n",
       "      <th>Sales</th>\n",
       "      <th>Quantity</th>\n",
       "      <th>Discount</th>\n",
       "      <th>Profit</th>\n",
       "      <th>Shipping Cost</th>\n",
       "    </tr>\n",
       "  </thead>\n",
       "  <tbody>\n",
       "    <tr>\n",
       "      <th>count</th>\n",
       "      <td>9994.0</td>\n",
       "      <td>9994.0</td>\n",
       "      <td>9994.0</td>\n",
       "      <td>9994.0</td>\n",
       "      <td>9994.0</td>\n",
       "      <td>9994.0</td>\n",
       "      <td>9994.0</td>\n",
       "    </tr>\n",
       "    <tr>\n",
       "      <th>mean</th>\n",
       "      <td>36294.0</td>\n",
       "      <td>55190.0</td>\n",
       "      <td>230.0</td>\n",
       "      <td>4.0</td>\n",
       "      <td>0.0</td>\n",
       "      <td>29.0</td>\n",
       "      <td>24.0</td>\n",
       "    </tr>\n",
       "    <tr>\n",
       "      <th>std</th>\n",
       "      <td>2885.0</td>\n",
       "      <td>32064.0</td>\n",
       "      <td>623.0</td>\n",
       "      <td>2.0</td>\n",
       "      <td>0.0</td>\n",
       "      <td>234.0</td>\n",
       "      <td>59.0</td>\n",
       "    </tr>\n",
       "    <tr>\n",
       "      <th>min</th>\n",
       "      <td>31297.0</td>\n",
       "      <td>1040.0</td>\n",
       "      <td>0.0</td>\n",
       "      <td>1.0</td>\n",
       "      <td>0.0</td>\n",
       "      <td>-6600.0</td>\n",
       "      <td>0.0</td>\n",
       "    </tr>\n",
       "    <tr>\n",
       "      <th>25%</th>\n",
       "      <td>33795.0</td>\n",
       "      <td>23223.0</td>\n",
       "      <td>17.0</td>\n",
       "      <td>2.0</td>\n",
       "      <td>0.0</td>\n",
       "      <td>2.0</td>\n",
       "      <td>1.0</td>\n",
       "    </tr>\n",
       "    <tr>\n",
       "      <th>50%</th>\n",
       "      <td>36294.0</td>\n",
       "      <td>56430.0</td>\n",
       "      <td>54.0</td>\n",
       "      <td>3.0</td>\n",
       "      <td>0.0</td>\n",
       "      <td>9.0</td>\n",
       "      <td>5.0</td>\n",
       "    </tr>\n",
       "    <tr>\n",
       "      <th>75%</th>\n",
       "      <td>38792.0</td>\n",
       "      <td>90008.0</td>\n",
       "      <td>210.0</td>\n",
       "      <td>5.0</td>\n",
       "      <td>0.0</td>\n",
       "      <td>29.0</td>\n",
       "      <td>20.0</td>\n",
       "    </tr>\n",
       "    <tr>\n",
       "      <th>max</th>\n",
       "      <td>41290.0</td>\n",
       "      <td>99301.0</td>\n",
       "      <td>22638.0</td>\n",
       "      <td>14.0</td>\n",
       "      <td>1.0</td>\n",
       "      <td>8400.0</td>\n",
       "      <td>934.0</td>\n",
       "    </tr>\n",
       "  </tbody>\n",
       "</table>\n",
       "</div>"
      ],
      "text/plain": [
       "        Row ID  Postal Code    Sales  Quantity  Discount  Profit  \\\n",
       "count   9994.0       9994.0   9994.0    9994.0    9994.0  9994.0   \n",
       "mean   36294.0      55190.0    230.0       4.0       0.0    29.0   \n",
       "std     2885.0      32064.0    623.0       2.0       0.0   234.0   \n",
       "min    31297.0       1040.0      0.0       1.0       0.0 -6600.0   \n",
       "25%    33795.0      23223.0     17.0       2.0       0.0     2.0   \n",
       "50%    36294.0      56430.0     54.0       3.0       0.0     9.0   \n",
       "75%    38792.0      90008.0    210.0       5.0       0.0    29.0   \n",
       "max    41290.0      99301.0  22638.0      14.0       1.0  8400.0   \n",
       "\n",
       "       Shipping Cost  \n",
       "count         9994.0  \n",
       "mean            24.0  \n",
       "std             59.0  \n",
       "min              0.0  \n",
       "25%              1.0  \n",
       "50%              5.0  \n",
       "75%             20.0  \n",
       "max            934.0  "
      ]
     },
     "execution_count": 26,
     "metadata": {},
     "output_type": "execute_result"
    }
   ],
   "source": [
    "df.describe().round()"
   ]
  },
  {
   "cell_type": "markdown",
   "metadata": {},
   "source": [
    "**Data Analysis**"
   ]
  },
  {
   "cell_type": "markdown",
   "metadata": {},
   "source": [
    "**1.Overall Sales**"
   ]
  },
  {
   "cell_type": "code",
   "execution_count": 27,
   "metadata": {},
   "outputs": [],
   "source": [
    "# Getting month year from order_date\n",
    "df['month_year'] = df['Order Date'].apply(lambda x: x.strftime('%Y-%m'))"
   ]
  },
  {
   "cell_type": "code",
   "execution_count": 28,
   "metadata": {},
   "outputs": [],
   "source": [
    "# grouping month_year by sales\n",
    "df_temp = df.groupby('month_year').sum()['Sales'].reset_index()"
   ]
  },
  {
   "cell_type": "code",
   "execution_count": 29,
   "metadata": {},
   "outputs": [
    {
     "data": {
      "image/png": "[encoded data removed]",
      "text/plain": [
       "<Figure size 1600x500 with 1 Axes>"
      ]
     },
     "metadata": {},
     "output_type": "display_data"
    }
   ],
   "source": [
    "# Setting the figure size\n",
    "plt.figure(figsize=(16, 5))\n",
    "plt.plot(df_temp['month_year'], df_temp['Sales'], color='#b80045')\n",
    "plt.xticks(rotation='vertical', size=8)\n",
    "plt.show()"
   ]
  },
  {
   "cell_type": "markdown",
   "metadata": {},
   "source": [
    "**2.Top 10 Products By Sales**"
   ]
  },
  {
   "cell_type": "code",
   "execution_count": 30,
   "metadata": {},
   "outputs": [
    {
     "data": {
      "text/html": [
       "<div>\n",
       "<style scoped>\n",
       "    .dataframe tbody tr th:only-of-type {\n",
       "        vertical-align: middle;\n",
       "    }\n",
       "\n",
       "    .dataframe tbody tr th {\n",
       "        vertical-align: top;\n",
       "    }\n",
       "\n",
       "    .dataframe thead th {\n",
       "        text-align: right;\n",
       "    }\n",
       "</style>\n",
       "<table border=\"1\" class=\"dataframe\">\n",
       "  <thead>\n",
       "    <tr style=\"text-align: right;\">\n",
       "      <th></th>\n",
       "      <th>Sales</th>\n",
       "    </tr>\n",
       "    <tr>\n",
       "      <th>Product Name</th>\n",
       "      <th></th>\n",
       "    </tr>\n",
       "  </thead>\n",
       "  <tbody>\n",
       "    <tr>\n",
       "      <th>Canon imageCLASS 2200 Advanced Copier</th>\n",
       "      <td>61599.824</td>\n",
       "    </tr>\n",
       "    <tr>\n",
       "      <th>Fellowes PB500 Electric Punch Plastic Comb Binding Machine with Manual Bind</th>\n",
       "      <td>27453.384</td>\n",
       "    </tr>\n",
       "    <tr>\n",
       "      <th>Cisco TelePresence System EX90 Videoconferencing Unit</th>\n",
       "      <td>22638.480</td>\n",
       "    </tr>\n",
       "    <tr>\n",
       "      <th>HON 5400 Series Task Chairs for Big and Tall</th>\n",
       "      <td>21870.576</td>\n",
       "    </tr>\n",
       "    <tr>\n",
       "      <th>GBC DocuBind TL300 Electric Binding System</th>\n",
       "      <td>19823.479</td>\n",
       "    </tr>\n",
       "    <tr>\n",
       "      <th>GBC Ibimaster 500 Manual ProClick Binding System</th>\n",
       "      <td>19024.500</td>\n",
       "    </tr>\n",
       "    <tr>\n",
       "      <th>Hewlett Packard LaserJet 3310 Copier</th>\n",
       "      <td>18839.686</td>\n",
       "    </tr>\n",
       "    <tr>\n",
       "      <th>HP Designjet T520 Inkjet Large Format Printer - 24\" Color</th>\n",
       "      <td>18374.895</td>\n",
       "    </tr>\n",
       "    <tr>\n",
       "      <th>GBC DocuBind P400 Electric Binding System</th>\n",
       "      <td>17965.068</td>\n",
       "    </tr>\n",
       "    <tr>\n",
       "      <th>High Speed Automatic Electric Letter Opener</th>\n",
       "      <td>17030.312</td>\n",
       "    </tr>\n",
       "  </tbody>\n",
       "</table>\n",
       "</div>"
      ],
      "text/plain": [
       "                                                        Sales\n",
       "Product Name                                                 \n",
       "Canon imageCLASS 2200 Advanced Copier               61599.824\n",
       "Fellowes PB500 Electric Punch Plastic Comb Bind...  27453.384\n",
       "Cisco TelePresence System EX90 Videoconferencin...  22638.480\n",
       "HON 5400 Series Task Chairs for Big and Tall        21870.576\n",
       "GBC DocuBind TL300 Electric Binding System          19823.479\n",
       "GBC Ibimaster 500 Manual ProClick Binding System    19024.500\n",
       "Hewlett Packard LaserJet 3310 Copier                18839.686\n",
       "HP Designjet T520 Inkjet Large Format Printer -...  18374.895\n",
       "GBC DocuBind P400 Electric Binding System           17965.068\n",
       "High Speed Automatic Electric Letter Opener         17030.312"
      ]
     },
     "execution_count": 30,
     "metadata": {},
     "output_type": "execute_result"
    }
   ],
   "source": [
    "# Grouping products by sales\n",
    "prod_sales = pd.DataFrame(df.groupby('Product Name').sum()['Sales'])\n",
    "\n",
    "# Sorting the dataframe in descending order\n",
    "prod_sales.sort_values(by=['Sales'], inplace=True, ascending=False)\n",
    "\n",
    "# Top 10 products by sales\n",
    "prod_sales[:10]"
   ]
  },
  {
   "cell_type": "markdown",
   "metadata": {},
   "source": [
    "**3.Best Selling Products**"
   ]
  },
  {
   "cell_type": "code",
   "execution_count": 31,
   "metadata": {},
   "outputs": [
    {
     "data": {
      "text/html": [
       "<div>\n",
       "<style scoped>\n",
       "    .dataframe tbody tr th:only-of-type {\n",
       "        vertical-align: middle;\n",
       "    }\n",
       "\n",
       "    .dataframe tbody tr th {\n",
       "        vertical-align: top;\n",
       "    }\n",
       "\n",
       "    .dataframe thead th {\n",
       "        text-align: right;\n",
       "    }\n",
       "</style>\n",
       "<table border=\"1\" class=\"dataframe\">\n",
       "  <thead>\n",
       "    <tr style=\"text-align: right;\">\n",
       "      <th></th>\n",
       "      <th>Quantity</th>\n",
       "    </tr>\n",
       "    <tr>\n",
       "      <th>Product Name</th>\n",
       "      <th></th>\n",
       "    </tr>\n",
       "  </thead>\n",
       "  <tbody>\n",
       "    <tr>\n",
       "      <th>Staples</th>\n",
       "      <td>876</td>\n",
       "    </tr>\n",
       "    <tr>\n",
       "      <th>KI Adjustable-Height Table</th>\n",
       "      <td>74</td>\n",
       "    </tr>\n",
       "    <tr>\n",
       "      <th>Avery Non-Stick Binders</th>\n",
       "      <td>71</td>\n",
       "    </tr>\n",
       "    <tr>\n",
       "      <th>Storex Dura Pro Binders</th>\n",
       "      <td>71</td>\n",
       "    </tr>\n",
       "    <tr>\n",
       "      <th>GBC Premium Transparent Covers with Diagonal Lined Pattern</th>\n",
       "      <td>67</td>\n",
       "    </tr>\n",
       "    <tr>\n",
       "      <th>Situations Contoured Folding Chairs, 4/Set</th>\n",
       "      <td>64</td>\n",
       "    </tr>\n",
       "    <tr>\n",
       "      <th>Chromcraft Round Conference Tables</th>\n",
       "      <td>61</td>\n",
       "    </tr>\n",
       "    <tr>\n",
       "      <th>Eldon Wave Desk Accessories</th>\n",
       "      <td>61</td>\n",
       "    </tr>\n",
       "    <tr>\n",
       "      <th>Wilson Jones Turn Tabs Binder Tool for Ring Binders</th>\n",
       "      <td>59</td>\n",
       "    </tr>\n",
       "    <tr>\n",
       "      <th>Global Wood Trimmed Manager's Task Chair, Khaki</th>\n",
       "      <td>59</td>\n",
       "    </tr>\n",
       "  </tbody>\n",
       "</table>\n",
       "</div>"
      ],
      "text/plain": [
       "                                                    Quantity\n",
       "Product Name                                                \n",
       "Staples                                                  876\n",
       "KI Adjustable-Height Table                                74\n",
       "Avery Non-Stick Binders                                   71\n",
       "Storex Dura Pro Binders                                   71\n",
       "GBC Premium Transparent Covers with Diagonal Li...        67\n",
       "Situations Contoured Folding Chairs, 4/Set                64\n",
       "Chromcraft Round Conference Tables                        61\n",
       "Eldon Wave Desk Accessories                               61\n",
       "Wilson Jones Turn Tabs Binder Tool for Ring Bin...        59\n",
       "Global Wood Trimmed Manager's Task Chair, Khaki           59"
      ]
     },
     "execution_count": 31,
     "metadata": {},
     "output_type": "execute_result"
    }
   ],
   "source": [
    "# Grouping products by Quantity\n",
    "best_selling_prods = pd.DataFrame(df.groupby('Product Name').sum()['Quantity'])\n",
    "\n",
    "# Sorting the dataframe in descending order\n",
    "best_selling_prods.sort_values(by=['Quantity'], inplace=True, ascending=False)\n",
    "\n",
    "# Most selling products\n",
    "best_selling_prods[:10]"
   ]
  },
  {
   "cell_type": "markdown",
   "metadata": {},
   "source": [
    "**4.Most Prefered Ship mode**"
   ]
  },
  {
   "cell_type": "code",
   "execution_count": 32,
   "metadata": {},
   "outputs": [
    {
     "data": {
      "image/png": "[encoded data removed]",
      "text/plain": [
       "<Figure size 1000x800 with 1 Axes>"
      ]
     },
     "metadata": {},
     "output_type": "display_data"
    }
   ],
   "source": [
    "# Setting the figure size\n",
    "plt.figure(figsize=(10, 8))\n",
    "\n",
    "# countplot: Show the counts of observations in each categorical bin using bars\n",
    "sns.countplot(x='Ship Mode', data=df)\n",
    "\n",
    "# Display the figure\n",
    "plt.show()"
   ]
  },
  {
   "cell_type": "markdown",
   "metadata": {},
   "source": [
    "**5.Most Profitable Category and Sub-Category**"
   ]
  },
  {
   "cell_type": "code",
   "execution_count": 33,
   "metadata": {},
   "outputs": [
    {
     "data": {
      "text/html": [
       "<div>\n",
       "<style scoped>\n",
       "    .dataframe tbody tr th:only-of-type {\n",
       "        vertical-align: middle;\n",
       "    }\n",
       "\n",
       "    .dataframe tbody tr th {\n",
       "        vertical-align: top;\n",
       "    }\n",
       "\n",
       "    .dataframe thead th {\n",
       "        text-align: right;\n",
       "    }\n",
       "</style>\n",
       "<table border=\"1\" class=\"dataframe\">\n",
       "  <thead>\n",
       "    <tr style=\"text-align: right;\">\n",
       "      <th></th>\n",
       "      <th></th>\n",
       "      <th>Profit</th>\n",
       "    </tr>\n",
       "    <tr>\n",
       "      <th>Category</th>\n",
       "      <th>Sub-Category</th>\n",
       "      <th></th>\n",
       "    </tr>\n",
       "  </thead>\n",
       "  <tbody>\n",
       "    <tr>\n",
       "      <th rowspan=\"4\" valign=\"top\">Technology</th>\n",
       "      <th>Copiers</th>\n",
       "      <td>55617.8249</td>\n",
       "    </tr>\n",
       "    <tr>\n",
       "      <th>Phones</th>\n",
       "      <td>44515.7306</td>\n",
       "    </tr>\n",
       "    <tr>\n",
       "      <th>Accessories</th>\n",
       "      <td>41936.6357</td>\n",
       "    </tr>\n",
       "    <tr>\n",
       "      <th>Machines</th>\n",
       "      <td>3384.7569</td>\n",
       "    </tr>\n",
       "    <tr>\n",
       "      <th rowspan=\"9\" valign=\"top\">Office Supplies</th>\n",
       "      <th>Paper</th>\n",
       "      <td>34053.5693</td>\n",
       "    </tr>\n",
       "    <tr>\n",
       "      <th>Binders</th>\n",
       "      <td>30221.7633</td>\n",
       "    </tr>\n",
       "    <tr>\n",
       "      <th>Storage</th>\n",
       "      <td>21278.8264</td>\n",
       "    </tr>\n",
       "    <tr>\n",
       "      <th>Appliances</th>\n",
       "      <td>18138.0054</td>\n",
       "    </tr>\n",
       "    <tr>\n",
       "      <th>Envelopes</th>\n",
       "      <td>6964.1767</td>\n",
       "    </tr>\n",
       "    <tr>\n",
       "      <th>Art</th>\n",
       "      <td>6527.7870</td>\n",
       "    </tr>\n",
       "    <tr>\n",
       "      <th>Labels</th>\n",
       "      <td>5546.2540</td>\n",
       "    </tr>\n",
       "    <tr>\n",
       "      <th>Fasteners</th>\n",
       "      <td>949.5182</td>\n",
       "    </tr>\n",
       "    <tr>\n",
       "      <th>Supplies</th>\n",
       "      <td>-1189.0995</td>\n",
       "    </tr>\n",
       "    <tr>\n",
       "      <th rowspan=\"4\" valign=\"top\">Furniture</th>\n",
       "      <th>Chairs</th>\n",
       "      <td>26590.1663</td>\n",
       "    </tr>\n",
       "    <tr>\n",
       "      <th>Furnishings</th>\n",
       "      <td>13059.1436</td>\n",
       "    </tr>\n",
       "    <tr>\n",
       "      <th>Bookcases</th>\n",
       "      <td>-3472.5560</td>\n",
       "    </tr>\n",
       "    <tr>\n",
       "      <th>Tables</th>\n",
       "      <td>-17725.4811</td>\n",
       "    </tr>\n",
       "  </tbody>\n",
       "</table>\n",
       "</div>"
      ],
      "text/plain": [
       "                                  Profit\n",
       "Category        Sub-Category            \n",
       "Technology      Copiers       55617.8249\n",
       "                Phones        44515.7306\n",
       "                Accessories   41936.6357\n",
       "                Machines       3384.7569\n",
       "Office Supplies Paper         34053.5693\n",
       "                Binders       30221.7633\n",
       "                Storage       21278.8264\n",
       "                Appliances    18138.0054\n",
       "                Envelopes      6964.1767\n",
       "                Art            6527.7870\n",
       "                Labels         5546.2540\n",
       "                Fasteners       949.5182\n",
       "                Supplies      -1189.0995\n",
       "Furniture       Chairs        26590.1663\n",
       "                Furnishings   13059.1436\n",
       "                Bookcases     -3472.5560\n",
       "                Tables       -17725.4811"
      ]
     },
     "execution_count": 33,
     "metadata": {},
     "output_type": "execute_result"
    }
   ],
   "source": [
    "# Grouping products by Category and Sub-Category\n",
    "cat_subcat = pd.DataFrame(df.groupby(['Category', 'Sub-Category']).sum()['Profit'])\n",
    "\n",
    "# Sorting the values\n",
    "cat_subcat.sort_values(['Category','Profit'], ascending=False)"
   ]
  },
  {
   "cell_type": "markdown",
   "metadata": {},
   "source": [
    "<h1>&nbsp;&nbsp;&nbsp;&nbsp;&nbsp;&nbsp;&nbsp;&nbsp;&nbsp;&nbsp;&nbsp;&nbsp;&nbsp;&nbsp;&nbsp;&nbsp;&nbsp;&nbsp;&nbsp;&nbsp;&nbsp;&nbsp;&nbsp;&nbsp;&nbsp;&nbsp;&nbsp;&nbsp;&nbsp;&nbsp;&nbsp;&nbsp;&nbsp;&nbsp;&nbsp;&nbsp;&nbsp;&nbsp;&nbsp;&nbsp;&nbsp;&nbsp;&nbsp;&nbsp;&nbsp;&nbsp;&nbsp;Thank You!</h1>"
   ]
  }
 ],
 "metadata": {
  "kernelspec": {
   "display_name": "base",
   "language": "python",
   "name": "python3"
  },
  "language_info": {
   "codemirror_mode": {
    "name": "ipython",
    "version": 3
   },
   "file_extension": ".py",
   "mimetype": "text/x-python",
   "name": "python",
   "nbconvert_exporter": "python",
   "pygments_lexer": "ipython3",
   "version": "3.9.13"
  }
 },
 "nbformat": 4,
 "nbformat_minor": 2
}
